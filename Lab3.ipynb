{
 "cells": [
  {
   "cell_type": "code",
   "execution_count": 9,
   "metadata": {},
   "outputs": [],
   "source": [
    "def numberOfVowels(a):\n",
    "    a=list(a)\n",
    "    vowel=['a','e','i','o','u', 'A', 'E', 'I', 'O', 'U']\n",
    "    b=0\n",
    "    for i in a:\n",
    "        if i in vowel :\n",
    "            b+=1\n",
    "    return b"
   ]
  },
  {
   "cell_type": "code",
   "execution_count": 10,
   "metadata": {
    "scrolled": true
   },
   "outputs": [
    {
     "data": {
      "text/plain": [
       "10"
      ]
     },
     "execution_count": 10,
     "metadata": {},
     "output_type": "execute_result"
    }
   ],
   "source": [
    "numberOfVowels('abcdefghijklmnopqrstuvwxyzABCDEFGHIJKLMNOPQRSTUVWXYZ0123456789')"
   ]
  },
  {
   "cell_type": "code",
   "execution_count": 33,
   "metadata": {},
   "outputs": [
    {
     "name": "stdout",
     "output_type": "stream",
     "text": [
      "{'Hammer': 10, 'Wrench': 15, 'Screwdriver': 20, 'Screws': 10, 'Cutter': 20}\n",
      "{'Hammer': 10, 'Wrench': 15, 'Screwdriver': 20}\n"
     ]
    }
   ],
   "source": [
    "dic = { 'Hammer' : 10, 'Wrench' : 15, 'Screwdriver' : 20, 'Screws' : 10, 'Cutter' : 20}\n",
    "\n",
    "print(dic)\n",
    "\n",
    "temp = []\n",
    "d=[]\n",
    "res = dict()\n",
    "\n",
    "for key, val in dic.items():\n",
    "    if val not in temp:\n",
    "        temp.append(val)\n",
    "    else:\n",
    "        d.append(key)\n",
    "\n",
    "for i in d:\n",
    "    del dic[i]\n",
    "    \n",
    "print(dic)"
   ]
  },
  {
   "cell_type": "code",
   "execution_count": null,
   "metadata": {},
   "outputs": [],
   "source": []
  }
 ],
 "metadata": {
  "kernelspec": {
   "display_name": "Python 3",
   "language": "python",
   "name": "python3"
  },
  "language_info": {
   "codemirror_mode": {
    "name": "ipython",
    "version": 3
   },
   "file_extension": ".py",
   "mimetype": "text/x-python",
   "name": "python",
   "nbconvert_exporter": "python",
   "pygments_lexer": "ipython3",
   "version": "3.7.0"
  }
 },
 "nbformat": 4,
 "nbformat_minor": 2
}
